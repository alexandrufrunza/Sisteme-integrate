{
  "nbformat": 4,
  "nbformat_minor": 0,
  "metadata": {
    "colab": {
      "name": "Laborator2.ipynb",
      "provenance": [],
      "collapsed_sections": [],
      "authorship_tag": "ABX9TyMV/yCWCXpuI6AdP/uzAIY9",
      "include_colab_link": true
    },
    "kernelspec": {
      "name": "python3",
      "display_name": "Python 3"
    }
  },
  "cells": [
    {
      "cell_type": "markdown",
      "metadata": {
        "id": "view-in-github",
        "colab_type": "text"
      },
      "source": [
        "<a href=\"https://colab.research.google.com/github/alexandrufrunza/Sisteme-integrate/blob/main/Laborator2.ipynb\" target=\"_parent\"><img src=\"https://colab.research.google.com/assets/colab-badge.svg\" alt=\"Open In Colab\"/></a>"
      ]
    },
    {
      "cell_type": "markdown",
      "metadata": {
        "id": "Im-FjeyN41lq"
      },
      "source": [
        "# Obiective\n",
        "\n",
        "\n",
        "*   Seturi de date\n",
        "*   Batch Gradient Descent\n",
        "*   Stochastic Gradient Descent\n",
        "*   Mini-batch Gradient Descent\n",
        "*   Regresia logistică în PyTorch\n",
        "\n"
      ]
    },
    {
      "cell_type": "markdown",
      "metadata": {
        "id": "FAAdX0GV5NaK"
      },
      "source": [
        "# Seturi de date\n",
        "Acestea sunt utile pentru generarea datelor ce pot fi folosite ulterior. Sunt generate folosind clasa **Dataset**."
      ]
    },
    {
      "cell_type": "code",
      "metadata": {
        "id": "GrVCI9fGvpMK",
        "colab": {
          "base_uri": "https://localhost:8080/"
        },
        "outputId": "0b41cd3b-2c1b-416c-d859-1aff51446b47"
      },
      "source": [
        "# Importarea librăriilor necesare #\n",
        "\n",
        "import torch\n",
        "from torch.utils.data import Dataset, DataLoader\n",
        "from torch import nn, optim\n",
        "import numpy as np\n",
        "import matplotlib.pyplot as plt\n",
        "\n",
        "torch.manual_seed(50)"
      ],
      "execution_count": null,
      "outputs": [
        {
          "output_type": "execute_result",
          "data": {
            "text/plain": [
              "<torch._C.Generator at 0x7fb18cb3c470>"
            ]
          },
          "metadata": {
            "tags": []
          },
          "execution_count": 1
        }
      ]
    },
    {
      "cell_type": "code",
      "metadata": {
        "id": "9IWlwH136EI1",
        "colab": {
          "base_uri": "https://localhost:8080/"
        },
        "outputId": "ae0a6db1-2a7e-4499-d794-7dcfb967743e"
      },
      "source": [
        "# Generarea unui set de date specifice regresiei liniare\n",
        "\n",
        "# Definirea clasei specifice\n",
        "class Data_LR(Dataset):\n",
        "    def __init__(self):\n",
        "      self.x = torch.arange(-3.,3.,0.1).view(-1,1)\n",
        "      self.f = 2*self.x - 1\n",
        "      self.y = self.f + 0.1*torch.randn(self.x.size())\n",
        "      self.len = self.x.shape[0]\n",
        "\n",
        "    def __getitem__(self,index):\n",
        "      return self.x[index], self.y[index]\n",
        "\n",
        "    def __len__(self):\n",
        "      return self.len\n",
        "\n",
        "# Crearea unui obiect din clasa anterior generată\n",
        "data = Data_LR()\n",
        "\n",
        "# Afișarea primelor 3 elemente al obiectului creat\n",
        "print(data[0], data[1], data[2], sep=\"\\n\")\n",
        "print(len(data))"
      ],
      "execution_count": null,
      "outputs": [
        {
          "output_type": "stream",
          "text": [
            "(tensor([-3.]), tensor([-7.1159]))\n",
            "(tensor([-2.9000]), tensor([-6.7633]))\n",
            "(tensor([-2.8000]), tensor([-6.5289]))\n",
            "60\n"
          ],
          "name": "stdout"
        }
      ]
    },
    {
      "cell_type": "markdown",
      "metadata": {
        "id": "ucKT_llJ_K4S"
      },
      "source": [
        "# Batch Gradient Descent"
      ]
    },
    {
      "cell_type": "markdown",
      "metadata": {
        "id": "5K8cneHiUnWG"
      },
      "source": [
        "## Construirea modelului si definirea functiei cost"
      ]
    },
    {
      "cell_type": "code",
      "metadata": {
        "id": "sDnYfWbbUrQJ",
        "colab": {
          "base_uri": "https://localhost:8080/"
        },
        "outputId": "0dee8478-4ff0-4d1b-dd3c-ff0b6801e87f"
      },
      "source": [
        "# Definirea modelului matematic\n",
        "model_BGD = nn.Linear(1,1);\n",
        "with torch.no_grad():\n",
        "    model_BGD.weight.data = torch.Tensor([[-15.0]])\n",
        "    model_BGD.bias.data = torch.Tensor([-10.])\n",
        "\n",
        "print(model_BGD.state_dict())\n",
        "\n",
        "# Crearea obiectului necesar optimizarii\n",
        "optimizer_BGD = optim.SGD(model_BGD.parameters(), lr=0.1)\n",
        "\n",
        "# Stabilirea criteriului de validare\n",
        "cost_BGD = nn.MSELoss()\n",
        "\n",
        "# Generarea unei liste pentru stocarea erorii\n",
        "LOSS_BGD = []"
      ],
      "execution_count": null,
      "outputs": [
        {
          "output_type": "stream",
          "text": [
            "OrderedDict([('weight', tensor([[-15.]])), ('bias', tensor([-10.]))])\n"
          ],
          "name": "stdout"
        }
      ]
    },
    {
      "cell_type": "markdown",
      "metadata": {
        "id": "H4JldlM7VUHL"
      },
      "source": [
        "## Antrenarea modelului folosind Batch Gradient Descent\n"
      ]
    },
    {
      "cell_type": "code",
      "metadata": {
        "id": "i4AEkP6HVusi",
        "colab": {
          "base_uri": "https://localhost:8080/",
          "height": 313
        },
        "outputId": "802b4b64-ddb4-4f00-aa78-fa0516ba421e"
      },
      "source": [
        "# Antrenarea\n",
        "def train_model_BGD(epochs):\n",
        "  for epoch in range(epochs):\n",
        "    # Calculul predictiei\n",
        "    Yhat = model_BGD(data.x)\n",
        "\n",
        "    # Calculul erorii\n",
        "    loss = cost_BGD(Yhat, data.y)\n",
        "    LOSS_BGD.append(loss)\n",
        "\n",
        "    # Setarea valorii gradientului egala cu 0\n",
        "    optimizer_BGD.zero_grad()\n",
        "\n",
        "    # Calculul gradientului\n",
        "    loss.backward()\n",
        "\n",
        "    # Actualizarea valorilor parametrilor\n",
        "    optimizer_BGD.step()\n",
        "\n",
        "# Antrenarea modelului\n",
        "train_model_BGD(10)\n",
        "\n",
        "# Calculul noii predictii cu valorile actualizate ale parametrilor\n",
        "Yhat_updated_BGD = model_BGD(data.x)\n",
        "\n",
        "# Calculul costului dupa antrenarea modelului\n",
        "COST_BGD = cost_BGD(Yhat_updated_BGD, data.y)\n",
        "\n",
        "print(COST_BGD)\n",
        "\n",
        "# Afisarea evolutiei erorii\n",
        "plt.figure()\n",
        "plt.xlabel('Epoch')\n",
        "plt.ylabel('Loss')\n",
        "plt.plot(np.arange(10), np.ravel(np.array([LOSS_BGD])))"
      ],
      "execution_count": null,
      "outputs": [
        {
          "output_type": "stream",
          "text": [
            "tensor(1.0347, grad_fn=<MseLossBackward>)\n"
          ],
          "name": "stdout"
        },
        {
          "output_type": "execute_result",
          "data": {
            "text/plain": [
              "[<matplotlib.lines.Line2D at 0x7f0614e34c50>]"
            ]
          },
          "metadata": {
            "tags": []
          },
          "execution_count": 7
        },
        {
          "output_type": "display_data",
          "data": {
            "image/png": "[encoded data removed]",
            "text/plain": [
              "<Figure size 432x288 with 1 Axes>"
            ]
          },
          "metadata": {
            "tags": [],
            "needs_background": "light"
          }
        }
      ]
    },
    {
      "cell_type": "markdown",
      "metadata": {
        "id": "h01Ka1mT_SSh"
      },
      "source": [
        "# Stochastic Gradient Descent"
      ]
    },
    {
      "cell_type": "markdown",
      "metadata": {
        "id": "ssy7_wVT_VWk"
      },
      "source": [
        "## Construirea modelului si definirea functiei cost - partea 1"
      ]
    },
    {
      "cell_type": "code",
      "metadata": {
        "id": "uIviPP6O_i4m"
      },
      "source": [
        "# Definirea modelului matematic\n",
        "model_SGD_1 = nn.Linear(1,1)\n",
        "\n",
        "with torch.no_grad():\n",
        "    model_SGD_1.weight.data = torch.Tensor([[-15.0]])\n",
        "    model_SGD_1.bias.data = torch.Tensor([-10.])\n",
        "\n",
        "# Crearea obiectului necesar optimizarii\n",
        "optimizer_SGD = optim.SGD(model_SGD_1.parameters(), lr=0.1)\n",
        "\n",
        "# Stabilirea criteriului de validare\n",
        "cost_SGD = nn.MSELoss()\n",
        "\n",
        "# Generarea unei liste pentru stocarea erorii\n",
        "LOSS_SGD_1 = []\n",
        "LOSS_SGD_2 = []"
      ],
      "execution_count": null,
      "outputs": []
    },
    {
      "cell_type": "markdown",
      "metadata": {
        "id": "kCpIFz6yAVdT"
      },
      "source": [
        "## Antrenarea modelului folosind Stochastic Gradient Descent - partea 1"
      ]
    },
    {
      "cell_type": "code",
      "metadata": {
        "colab": {
          "base_uri": "https://localhost:8080/",
          "height": 575
        },
        "id": "fwf_TvLiAcZv",
        "outputId": "74aae29c-4604-4c77-acb8-3d55f0fac4f9"
      },
      "source": [
        "# Antrenarea\n",
        "\n",
        "def train_SGD(epochs):\n",
        "  for epoch in range(epochs):\n",
        "\n",
        "    # Adauga noul cost listei corespunzatoare\n",
        "    LOSS_SGD_1.append(cost_SGD(model_SGD_1(data.x), data.y).tolist())\n",
        "\n",
        "    for x,y in zip(data.x, data.y):\n",
        "      \n",
        "      # Calculul predictiei\n",
        "      yhat = model_SGD_1(x)\n",
        "\n",
        "      # Calculul erorii\n",
        "      loss_sgd = cost_SGD(yhat, y)\n",
        "      LOSS_SGD_2.append(loss_sgd)\n",
        "\n",
        "      # Setarea valorii gradientului egala cu 0\n",
        "      optimizer_SGD.zero_grad()\n",
        "\n",
        "      # Calcululul gradientului\n",
        "      loss_sgd.backward()\n",
        "\n",
        "      # Actualizarea parametrilor modelului\n",
        "      optimizer_SGD.step()\n",
        "\n",
        "\n",
        "\n",
        "\n",
        "# Antrenarea modelului\n",
        "train_SGD(10)\n",
        "\n",
        "# Calculul noii predictii cu valorile actualizate ale parametrilor\n",
        "Yhat_updated_SGD = model_SGD_1(data.x)\n",
        "\n",
        "# Calculul costului dupa antrenarea modelului\n",
        "COST_SGD = cost_SGD(Yhat_updated_SGD, data.y)\n",
        "\n",
        "print(COST_SGD)\n",
        "\n",
        "# Afisarea evolutiei erorii intermediare\n",
        "plt.figure()\n",
        "plt.xlabel('Epoch x Iterations')\n",
        "plt.ylabel('Loss')\n",
        "plt.plot(np.arange(len(LOSS_SGD_2)), np.ravel(np.array([LOSS_SGD_2])))\n",
        "\n",
        "# Afisarea evolutiei erorii totale\n",
        "plt.figure()\n",
        "plt.xlabel('Epoch')\n",
        "plt.ylabel('Loss')\n",
        "plt.plot(np.arange(10), np.ravel(np.array([LOSS_SGD_1])))"
      ],
      "execution_count": null,
      "outputs": [
        {
          "output_type": "stream",
          "text": [
            "tensor(0.0720, grad_fn=<MseLossBackward>)\n"
          ],
          "name": "stdout"
        },
        {
          "output_type": "execute_result",
          "data": {
            "text/plain": [
              "[<matplotlib.lines.Line2D at 0x7f06153fb050>]"
            ]
          },
          "metadata": {
            "tags": []
          },
          "execution_count": 6
        },
        {
          "output_type": "display_data",
          "data": {
            "image/png": "[encoded data removed]",
            "text/plain": [
              "<Figure size 432x288 with 1 Axes>"
            ]
          },
          "metadata": {
            "tags": [],
            "needs_background": "light"
          }
        },
        {
          "output_type": "display_data",
          "data": {
            "image/png": "[encoded data removed]",
            "text/plain": [
              "<Figure size 432x288 with 1 Axes>"
            ]
          },
          "metadata": {
            "tags": [],
            "needs_background": "light"
          }
        }
      ]
    },
    {
      "cell_type": "markdown",
      "metadata": {
        "id": "hYx_UKTlKJEh"
      },
      "source": [
        "## Construirea modelului si definirea functiei cost - partea 2\n",
        "\n",
        "---\n",
        "\n"
      ]
    },
    {
      "cell_type": "code",
      "metadata": {
        "id": "6yYmYpdLKJxV",
        "colab": {
          "base_uri": "https://localhost:8080/"
        },
        "outputId": "20cc2676-903b-4d65-ebe4-85d44799be29"
      },
      "source": [
        "# Definirea modelului matematic\n",
        "model_SGD_1 = nn.Linear(1,1)\n",
        "\n",
        "with torch.no_grad():\n",
        "    model_SGD_1.weight.data = torch.Tensor([[-15.0]])\n",
        "    model_SGD_1.bias.data = torch.Tensor([-10.])\n",
        "\n",
        "print(model_SGD_1.state_dict())\n",
        "# Crearea obiectului necesar optimizarii\n",
        "optimizer_SGD = optim.SGD(model_SGD_1.parameters(), lr=0.1)\n",
        "\n",
        "# Stabilirea criteriului de validare\n",
        "cost_SGD = nn.MSELoss()\n",
        "\n",
        "# Generarea unui obiect ce specifica dimensiunea unui batch\n",
        "trainloader = DataLoader(data, batch_size=1)\n",
        "\n",
        "# Generarea unei liste pentru stocarea erorii\n",
        "LOSS_SGD_1 = []\n",
        "LOSS_SGD_2 = []"
      ],
      "execution_count": null,
      "outputs": [
        {
          "output_type": "stream",
          "text": [
            "OrderedDict([('weight', tensor([[-15.]])), ('bias', tensor([-10.]))])\n"
          ],
          "name": "stdout"
        }
      ]
    },
    {
      "cell_type": "markdown",
      "metadata": {
        "id": "bkIn4-_qKh7-"
      },
      "source": [
        "## Antrenarea modelului folosind Stochastic Gradient Descent - partea 2"
      ]
    },
    {
      "cell_type": "code",
      "metadata": {
        "colab": {
          "base_uri": "https://localhost:8080/",
          "height": 575
        },
        "id": "dqUoi95vKiu4",
        "outputId": "f1a6895a-0f48-4a7b-ce03-f22b94a8d8bc"
      },
      "source": [
        "# Antrenarea\n",
        "\n",
        "def train_SGD(epochs):\n",
        "  for epoch in range(epochs):\n",
        "\n",
        "    # Adauga noul cost listei corespunzatoare\n",
        "    LOSS_SGD_1.append(cost_SGD(model_SGD_1(data.x), data.y).tolist())\n",
        "\n",
        "    for x,y in trainloader:\n",
        "      \n",
        "      # Calculul predictiei\n",
        "      yhat = model_SGD_1(x)\n",
        "\n",
        "      # Calculul erorii\n",
        "      loss_sgd = cost_SGD(yhat, y)\n",
        "      LOSS_SGD_2.append(loss_sgd)\n",
        "\n",
        "      # Setarea valorii gradientului egala cu 0\n",
        "      optimizer_SGD.zero_grad()\n",
        "\n",
        "      # Calcululul gradientului\n",
        "      loss_sgd.backward()\n",
        "\n",
        "      # Actualizarea parametrilor modelului\n",
        "      optimizer_SGD.step()\n",
        "\n",
        "\n",
        "\n",
        "\n",
        "# Antrenarea modelului\n",
        "train_SGD(10)\n",
        "\n",
        "# Calculul noii predictii cu valorile actualizate ale parametrilor\n",
        "Yhat_updated_SGD = model_SGD_1(data.x)\n",
        "\n",
        "# Calculul costului dupa antrenarea modelului\n",
        "COST_SGD = cost_SGD(Yhat_updated_SGD, data.y)\n",
        "\n",
        "print(COST_SGD)\n",
        "\n",
        "# Afisarea evolutiei erorii intermediare\n",
        "plt.figure()\n",
        "plt.xlabel('Epoch x Iterations')\n",
        "plt.ylabel('Loss')\n",
        "plt.plot(np.arange(len(LOSS_SGD_2)), np.ravel(np.array([LOSS_SGD_2])))\n",
        "\n",
        "# Afisarea evolutiei erorii totale\n",
        "plt.figure()\n",
        "plt.xlabel('Epoch')\n",
        "plt.ylabel('Loss')\n",
        "plt.plot(np.arange(10), np.ravel(np.array([LOSS_SGD_1])))"
      ],
      "execution_count": null,
      "outputs": [
        {
          "output_type": "stream",
          "text": [
            "tensor(0.0720, grad_fn=<MseLossBackward>)\n"
          ],
          "name": "stdout"
        },
        {
          "output_type": "execute_result",
          "data": {
            "text/plain": [
              "[<matplotlib.lines.Line2D at 0x7f0614d7b890>]"
            ]
          },
          "metadata": {
            "tags": []
          },
          "execution_count": 9
        },
        {
          "output_type": "display_data",
          "data": {
            "image/png": "[encoded data removed]",
            "text/plain": [
              "<Figure size 432x288 with 1 Axes>"
            ]
          },
          "metadata": {
            "tags": [],
            "needs_background": "light"
          }
        },
        {
          "output_type": "display_data",
          "data": {
            "image/png": "[encoded data removed]",
            "text/plain": [
              "<Figure size 432x288 with 1 Axes>"
            ]
          },
          "metadata": {
            "tags": [],
            "needs_background": "light"
          }
        }
      ]
    },
    {
      "cell_type": "markdown",
      "metadata": {
        "id": "fpE9cXcnSXn-"
      },
      "source": [
        "#   Mini-batch Gradient Descent\n"
      ]
    },
    {
      "cell_type": "markdown",
      "metadata": {
        "id": "hz92SwUaSdqa"
      },
      "source": [
        "## Construirea modelului si definirea functiei cost\n"
      ]
    },
    {
      "cell_type": "code",
      "metadata": {
        "id": "YMWcHFbdSlYH",
        "colab": {
          "base_uri": "https://localhost:8080/"
        },
        "outputId": "f6513f26-c3e3-4b9e-e508-976410770bbd"
      },
      "source": [
        "# Definirea modelului matematic\n",
        "model_MBGD = nn.Linear(1,1)\n",
        "\n",
        "with torch.no_grad():\n",
        "    model_MBGD.weight.data = torch.Tensor([[-15.0]])\n",
        "    model_MBGD.bias.data = torch.Tensor([-10.])\n",
        "\n",
        "print(model_MBGD.state_dict())\n",
        "\n",
        "# Crearea obiectului necesar optimizarii\n",
        "optimizer_MBGD = optim.SGD(model_MBGD.parameters(), lr=0.1)\n",
        "\n",
        "# Stabilirea criteriului de validare\n",
        "cost_MBGD = nn.MSELoss()\n",
        "\n",
        "# Generarea unui obiect ce specifica dimensiunea unui batch\n",
        "trainloader = DataLoader(data, batch_size=5)\n",
        "\n",
        "# Generarea unei liste pentru stocarea erorii\n",
        "LOSS_MBGD_1 = []\n",
        "LOSS_MBGD_2 = []"
      ],
      "execution_count": null,
      "outputs": [
        {
          "output_type": "stream",
          "text": [
            "OrderedDict([('weight', tensor([[-15.]])), ('bias', tensor([-10.]))])\n"
          ],
          "name": "stdout"
        }
      ]
    },
    {
      "cell_type": "markdown",
      "metadata": {
        "id": "kDS4wANeSozr"
      },
      "source": [
        "## Antrenarea modelului folosind Stochastic Gradient Descent - partea 2"
      ]
    },
    {
      "cell_type": "code",
      "metadata": {
        "colab": {
          "base_uri": "https://localhost:8080/",
          "height": 575
        },
        "id": "oiSdKr2nSphs",
        "outputId": "1a8eb629-bfa5-43c4-e7bb-bcaf8bec3256"
      },
      "source": [
        "# Antrenarea\n",
        "\n",
        "def train_MBGD(epochs):\n",
        "  for epoch in range(epochs):\n",
        "\n",
        "    # Adauga noul cost listei corespunzatoare\n",
        "    LOSS_MBGD_1.append(cost_MBGD(model_MBGD(data.x), data.y).tolist())\n",
        "\n",
        "    for x,y in trainloader:\n",
        "      \n",
        "      # Calculul predictiei\n",
        "      yhat = model_MBGD(x)\n",
        "\n",
        "      # Calculul erorii\n",
        "      loss_sgd = cost_MBGD(yhat, y)\n",
        "      LOSS_MBGD_2.append(loss_sgd)\n",
        "\n",
        "      # Setarea valorii gradientului egala cu 0\n",
        "      optimizer_MBGD.zero_grad()\n",
        "\n",
        "      # Calcululul gradientului\n",
        "      loss_sgd.backward()\n",
        "\n",
        "      # Actualizarea parametrilor modelului\n",
        "      optimizer_MBGD.step()\n",
        "\n",
        "\n",
        "# Antrenarea modelului\n",
        "train_MBGD(10)\n",
        "\n",
        "# Calculul noii predictii cu valorile actualizate ale parametrilor\n",
        "Yhat_updated_MBGD = model_MBGD(data.x)\n",
        "\n",
        "# Calculul costului dupa antrenarea modelului\n",
        "COST_MBGD = cost_MBGD(Yhat_updated_MBGD, data.y)\n",
        "\n",
        "print(COST_MBGD)\n",
        "\n",
        "# Afisarea evolutiei erorii intermediare\n",
        "plt.figure()\n",
        "plt.xlabel('Epoch x Iterations')\n",
        "plt.ylabel('Loss')\n",
        "plt.plot(np.arange(len(LOSS_MBGD_2)), np.ravel(np.array([LOSS_MBGD_2])))\n",
        "\n",
        "# Afisarea evolutiei erorii totale\n",
        "plt.figure()\n",
        "plt.xlabel('Epoch')\n",
        "plt.ylabel('Loss')\n",
        "plt.plot(np.arange(10), np.ravel(np.array([LOSS_MBGD_1])))"
      ],
      "execution_count": null,
      "outputs": [
        {
          "output_type": "stream",
          "text": [
            "tensor(0.0162, grad_fn=<MseLossBackward>)\n"
          ],
          "name": "stdout"
        },
        {
          "output_type": "execute_result",
          "data": {
            "text/plain": [
              "[<matplotlib.lines.Line2D at 0x7f0614cdca90>]"
            ]
          },
          "metadata": {
            "tags": []
          },
          "execution_count": 11
        },
        {
          "output_type": "display_data",
          "data": {
            "image/png": "[encoded data removed]",
            "text/plain": [
              "<Figure size 432x288 with 1 Axes>"
            ]
          },
          "metadata": {
            "tags": [],
            "needs_background": "light"
          }
        },
        {
          "output_type": "display_data",
          "data": {
            "image/png": "[encoded data removed]",
            "text/plain": [
              "<Figure size 432x288 with 1 Axes>"
            ]
          },
          "metadata": {
            "tags": [],
            "needs_background": "light"
          }
        }
      ]
    },
    {
      "cell_type": "code",
      "metadata": {
        "colab": {
          "base_uri": "https://localhost:8080/",
          "height": 296
        },
        "id": "o8hls7iZUOBL",
        "outputId": "70f5818a-eead-4f9f-c913-f7856ff1ff60"
      },
      "source": [
        "# Vizualizarea evolutiei erorii pentru cele 3 metode prezentate\n",
        "plt.figure()\n",
        "plt.xlabel(\"Epoch\")\n",
        "plt.ylabel(\"Loss\")\n",
        "plt.plot(np.arange(10), np.ravel(np.array([LOSS_BGD])), 'r', label=\"BGD\")\n",
        "plt.plot(np.arange(10), np.ravel(np.array([LOSS_SGD_1])), 'b', label='SGD')\n",
        "plt.plot(np.arange(10), np.ravel(np.array([LOSS_MBGD_1])), 'g', label=\"MBGD\")\n",
        "plt.legend()"
      ],
      "execution_count": null,
      "outputs": [
        {
          "output_type": "execute_result",
          "data": {
            "text/plain": [
              "<matplotlib.legend.Legend at 0x7f0614bfc790>"
            ]
          },
          "metadata": {
            "tags": []
          },
          "execution_count": 12
        },
        {
          "output_type": "display_data",
          "data": {
            "image/png": "[encoded data removed]",
            "text/plain": [
              "<Figure size 432x288 with 1 Axes>"
            ]
          },
          "metadata": {
            "tags": [],
            "needs_background": "light"
          }
        }
      ]
    },
    {
      "cell_type": "markdown",
      "metadata": {
        "id": "e2Xxh_AsUfas"
      },
      "source": [
        "# Regresia logistică în PyTorch"
      ]
    },
    {
      "cell_type": "markdown",
      "metadata": {
        "id": "SHjcqVU_WH-y"
      },
      "source": [
        "## Funcția Sigmoid\n",
        "\n",
        "$\\sigma (z) = \\frac{1}{1+e^{-z}}$"
      ]
    },
    {
      "cell_type": "code",
      "metadata": {
        "colab": {
          "base_uri": "https://localhost:8080/",
          "height": 415
        },
        "id": "5MTcJnqiUgir",
        "outputId": "bdb77c5a-51f8-447b-a107-6afd2d89bba2"
      },
      "source": [
        "z = torch.arange(-100., 100., 0.1).view(-1,1)\n",
        "print(\"Tensorul z:\", z)\n",
        "\n",
        "sig = nn.Sigmoid()\n",
        "\n",
        "yhat1 = sig(z)\n",
        "\n",
        "plt.figure()\n",
        "plt.xlabel('z')\n",
        "plt.ylabel('yhat1')\n",
        "plt.plot(z, yhat1)"
      ],
      "execution_count": null,
      "outputs": [
        {
          "output_type": "stream",
          "text": [
            "Tensorul z: tensor([[-100.0000],\n",
            "        [ -99.9000],\n",
            "        [ -99.8000],\n",
            "        ...,\n",
            "        [  99.7000],\n",
            "        [  99.8000],\n",
            "        [  99.9000]])\n"
          ],
          "name": "stdout"
        },
        {
          "output_type": "execute_result",
          "data": {
            "text/plain": [
              "[<matplotlib.lines.Line2D at 0x7f061453bb50>]"
            ]
          },
          "metadata": {
            "tags": []
          },
          "execution_count": 16
        },
        {
          "output_type": "display_data",
          "data": {
            "image/png": "[encoded data removed]",
            "text/plain": [
              "<Figure size 432x288 with 1 Axes>"
            ]
          },
          "metadata": {
            "tags": [],
            "needs_background": "light"
          }
        }
      ]
    },
    {
      "cell_type": "code",
      "metadata": {
        "colab": {
          "base_uri": "https://localhost:8080/",
          "height": 296
        },
        "id": "obNQLmDDXHTy",
        "outputId": "6fc4291a-006e-41d2-c25a-af7f4029fca3"
      },
      "source": [
        "yhat2 = torch.sigmoid(z)\n",
        "\n",
        "plt.figure()\n",
        "plt.xlabel('z')\n",
        "plt.ylabel('yhat2')\n",
        "plt.plot(z, yhat2)"
      ],
      "execution_count": null,
      "outputs": [
        {
          "output_type": "execute_result",
          "data": {
            "text/plain": [
              "[<matplotlib.lines.Line2D at 0x7f0614532410>]"
            ]
          },
          "metadata": {
            "tags": []
          },
          "execution_count": 17
        },
        {
          "output_type": "display_data",
          "data": {
            "image/png": "[encoded data removed]",
            "text/plain": [
              "<Figure size 432x288 with 1 Axes>"
            ]
          },
          "metadata": {
            "tags": [],
            "needs_background": "light"
          }
        }
      ]
    },
    {
      "cell_type": "markdown",
      "metadata": {
        "id": "42N7x8BRXnzp"
      },
      "source": [
        "## Regresia logistică\n",
        "\n",
        "![logistic_regression_block_diagram.png](data:image/png;base64,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)"
      ]
    },
    {
      "cell_type": "code",
      "metadata": {
        "colab": {
          "base_uri": "https://localhost:8080/"
        },
        "id": "AGI_WIOeYHlx",
        "outputId": "b45fddf5-8997-4325-daf1-428c5ba02220"
      },
      "source": [
        "# Generarea modelului regresiei logistice\n",
        "model = nn.Sequential(nn.Linear(1,1), nn.Sigmoid())\n",
        "\n",
        "print(model.state_dict())\n",
        "\n",
        "# Generarea unor valori de intrare\n",
        "x = torch.tensor([[1.]])\n",
        "\n",
        "X = torch.tensor([[-10.],[0.], [1.]])\n",
        "\n",
        "yhat = model(x)\n",
        "YHAT = model(X)\n",
        "\n",
        "print('Predicția pentru prima variabilă de intrare:', yhat)\n",
        "print('Predicția pentru a doua varibilă de intrare:', YHAT)"
      ],
      "execution_count": null,
      "outputs": [
        {
          "output_type": "stream",
          "text": [
            "OrderedDict([('0.weight', tensor([[-0.0791]])), ('0.bias', tensor([-0.0246]))])\n",
            "tensor(0.7464, grad_fn=<BinaryCrossEntropyBackward>)\n",
            "Predicția pentru prima variabilă de intrare: tensor([[0.4741]], grad_fn=<SigmoidBackward>)\n",
            "Predicția pentru a doua varibilă de intrare: tensor([[0.6827],\n",
            "        [0.4938],\n",
            "        [0.4741]], grad_fn=<SigmoidBackward>)\n"
          ],
          "name": "stdout"
        }
      ]
    },
    {
      "cell_type": "markdown",
      "metadata": {
        "id": "tjhIl-HdatHF"
      },
      "source": [
        "## Crearea unui model al regresiei logistice folosind nn.Module"
      ]
    },
    {
      "cell_type": "code",
      "metadata": {
        "colab": {
          "base_uri": "https://localhost:8080/"
        },
        "id": "wNioK5Tzazvj",
        "outputId": "a0188635-9c15-4263-9db9-130b08091c6c"
      },
      "source": [
        "# Definirea modelului\n",
        "\n",
        "class logistic_regression(nn.Module):\n",
        "  def __init__(self, input_size):\n",
        "    super(logistic_regression, self).__init__()\n",
        "    self.linear = nn.Linear(input_size,1)\n",
        "\n",
        "  def forward(self, x):\n",
        "    yhat = torch.sigmoid(self.linear(x))\n",
        "    return yhat\n",
        "\n",
        "model_LG = logistic_regression(1)\n",
        "\n",
        "yhat = model_LG(x)\n",
        "YHAT = model_LG(X)\n",
        "\n",
        "print('Predicția pentru prima variabilă de intrare:', yhat)\n",
        "print('Predicția pentru a doua varibilă de intrare:', YHAT)"
      ],
      "execution_count": null,
      "outputs": [
        {
          "output_type": "stream",
          "text": [
            "Predicția pentru prima variabilă de intrare: tensor([[0.2209]], grad_fn=<SigmoidBackward>)\n",
            "Predicția pentru a doua varibilă de intrare: tensor([[0.9995],\n",
            "        [0.3872],\n",
            "        [0.2209]], grad_fn=<SigmoidBackward>)\n"
          ],
          "name": "stdout"
        }
      ]
    },
    {
      "cell_type": "markdown",
      "metadata": {
        "id": "lVHjh53CczZn"
      },
      "source": [
        "# Exercițiu\n",
        "\n",
        "Definiți o funcție pentru antrenarea modelului regresiei logistice. Antrenați modelul folosind 100 de iterații și afișați costul acesteia pe parcursul celor 100 de iterații. Adăugați o funcție de threshold modelului (daca predicția este mai mare sau egală cu 0.5, variabila de ieșire va fi 1, daca predicția este mai mică decât 0.5, variabila de ieșire este 0).\n"
      ]
    },
    {
      "cell_type": "code",
      "metadata": {
        "colab": {
          "base_uri": "https://localhost:8080/",
          "height": 296
        },
        "id": "N17q3-badxa7",
        "outputId": "94df3f7c-3aea-4527-d4e7-5dd08f22ec4b"
      },
      "source": [
        "# Crearea unui set de date de antrenare\n",
        "class Data_LGR(Dataset):\n",
        "  def __init__(self):\n",
        "        self.x = torch.arange(-3, 3, 0.1).view(-1, 1)\n",
        "        self.y = torch.zeros(self.x.shape[0], 1)\n",
        "        self.y[self.x[:, 0] > 0.2] = 1\n",
        "        self.len = self.x.shape[0]\n",
        "\n",
        "  def __getitem__(self, index):\n",
        "    return self.x[index], self.y[index]\n",
        "\n",
        "  def __len__(self):\n",
        "    return self.len \n",
        "\n",
        "data_lgr = Data_LGR()\n",
        "\n",
        "# Crearea modelului regresiei logistice\n",
        "class logistic_regression(nn.Module):\n",
        "  def __init__(self, input_size):\n",
        "    super(logistic_regression, self).__init__()\n",
        "    self.linear = nn.Linear(input_size, 1)\n",
        "\n",
        "  def forward(self, x):\n",
        "    yhat = torch.sigmoid(self.linear(x))\n",
        "    return yhat\n",
        "\n",
        "model = logistic_regression(1)\n",
        "\n",
        "# Definirea obiectului necesar optimizarii\n",
        "optimizer = optim.SGD(model.parameters(), lr=0.1)\n",
        "\n",
        "# Definirea functiei cost\n",
        "criterion = nn.BCELoss()\n",
        "\n",
        "# Definirea unei liste unde va fi stocat costul\n",
        "LOSS = []\n",
        "\n",
        "def train_lgr(epochs):\n",
        "  for epoch in range(epochs):\n",
        "    yhat = model(data_lgr.x)\n",
        "\n",
        "    loss = criterion(yhat, data_lgr.y)\n",
        "    LOSS.append(loss)\n",
        "\n",
        "\n",
        "    optimizer.zero_grad()\n",
        "\n",
        "    loss.backward()\n",
        "\n",
        "    optimizer.step()\n",
        "\n",
        "train_lgr(100)\n",
        "\n",
        "plt.figure()\n",
        "plt.xlabel('Epoch')\n",
        "plt.ylabel('Loss')\n",
        "plt.plot(np.arange(len(LOSS)), np.ravel(np.array([LOSS])))\n",
        "\n",
        "# Calculati acuratetea modelului\n",
        "YHAT = model(data_lgr.x)\n",
        "label = YHAT > 0.5\n",
        "print(\"Acuratete: \", torch.mean((label == data_lgr.y.type(torch.ByteTensor)).type(torch.float)))"
      ],
      "execution_count": null,
      "outputs": [
        {
          "output_type": "stream",
          "text": [
            "Acuratete:  tensor(0.9833)\n"
          ],
          "name": "stdout"
        },
        {
          "output_type": "display_data",
          "data": {
            "image/png": "[encoded data removed]",
            "text/plain": [
              "<Figure size 432x288 with 1 Axes>"
            ]
          },
          "metadata": {
            "tags": [],
            "needs_background": "light"
          }
        }
      ]
    }
  ]
}