{
  "nbformat": 4,
  "nbformat_minor": 0,
  "metadata": {
    "colab": {
      "name": "Laborator1.ipynb",
      "provenance": [],
      "collapsed_sections": [],
      "authorship_tag": "ABX9TyMc2BmKVBUa43DB2x31syJc",
      "include_colab_link": true
    },
    "kernelspec": {
      "name": "python3",
      "display_name": "Python 3"
    }
  },
  "cells": [
    {
      "cell_type": "markdown",
      "metadata": {
        "id": "view-in-github",
        "colab_type": "text"
      },
      "source": [
        "<a href=\"https://colab.research.google.com/github/alexandrufrunza/Sisteme-integrate/blob/main/Laborator1.ipynb\" target=\"_parent\"><img src=\"https://colab.research.google.com/assets/colab-badge.svg\" alt=\"Open In Colab\"/></a>"
      ]
    },
    {
      "cell_type": "markdown",
      "metadata": {
        "id": "GXncgMqw_UqP"
      },
      "source": [
        "# Obiective\n",
        "* Tensori\n",
        "* Derivate\n",
        "* Regresia lineara\n",
        "* Metoda gradientului\n",
        "* Seturi de date\n",
        "\n",
        "\n",
        "\n"
      ]
    },
    {
      "cell_type": "markdown",
      "metadata": {
        "id": "Mqe9U-0DAIpi"
      },
      "source": [
        "## Importarea librariilor necesare"
      ]
    },
    {
      "cell_type": "code",
      "metadata": {
        "id": "kWte0D-T9yjz"
      },
      "source": [
        "import torch \n",
        "import numpy as np \n",
        "\n",
        "import matplotlib.pyplot as plt\n",
        "%matplotlib inline  "
      ],
      "execution_count": 35,
      "outputs": []
    },
    {
      "cell_type": "markdown",
      "metadata": {
        "id": "ErwDxxpwt4Nb"
      },
      "source": [
        ""
      ]
    },
    {
      "cell_type": "markdown",
      "metadata": {
        "id": "dGJQXr5YB2Mq"
      },
      "source": [
        "# Generarea unui vector/unei matrici folosind NumPy\n",
        "**Proces similar cu generarea de vectori si matrici folosind Matlab**"
      ]
    },
    {
      "cell_type": "code",
      "metadata": {
        "colab": {
          "base_uri": "https://localhost:8080/"
        },
        "id": "tUccRcssCTLC",
        "outputId": "a25f8621-8b6d-46ab-f0c4-b7d0ffd3f72b"
      },
      "source": [
        "vec_np = np.array([12, 4, -4 ,4])\n",
        "print(vec_np)\n",
        "\n",
        "mat_np = np.array([[12, 0, -4], [5, 7, 9]])\n",
        "print(mat_np)"
      ],
      "execution_count": 36,
      "outputs": [
        {
          "output_type": "stream",
          "text": [
            "[12  4 -4  4]\n",
            "[[12  0 -4]\n",
            " [ 5  7  9]]\n"
          ],
          "name": "stdout"
        }
      ]
    },
    {
      "cell_type": "markdown",
      "metadata": {
        "id": "s5GBkzQzC8pt"
      },
      "source": [
        "# Generarea unui tensor folosind PyTorch"
      ]
    },
    {
      "cell_type": "code",
      "metadata": {
        "colab": {
          "base_uri": "https://localhost:8080/"
        },
        "id": "CO_LTYEaDCdi",
        "outputId": "ab19c11f-01ac-4cc6-ce2e-3061030b4bcf"
      },
      "source": [
        "vec_torc = torch.tensor([[0, 5, 28, 4], [-3, -6, 8, 2]])\n",
        "print(vec_torc)"
      ],
      "execution_count": 37,
      "outputs": [
        {
          "output_type": "stream",
          "text": [
            "tensor([[ 0,  5, 28,  4],\n",
            "        [-3, -6,  8,  2]])\n"
          ],
          "name": "stdout"
        }
      ]
    },
    {
      "cell_type": "markdown",
      "metadata": {
        "id": "PVPDv3glFgwa"
      },
      "source": [
        "# Tipuri de date"
      ]
    },
    {
      "cell_type": "code",
      "metadata": {
        "colab": {
          "base_uri": "https://localhost:8080/"
        },
        "id": "nsFm8faQFxZj",
        "outputId": "e02b6ba2-148e-44a5-ba39-8078f1bcc506"
      },
      "source": [
        "int_tensor = torch.tensor([1, 4, 5])\n",
        "float_tensor = torch.tensor([1., 4., 5.])\n",
        "print(\"Tipul de date continute de catre tensori: \", int_tensor.dtype, float_tensor.dtype)\n",
        "print(\"Tipul de tensor: \", int_tensor.type(), float_tensor.type())"
      ],
      "execution_count": 38,
      "outputs": [
        {
          "output_type": "stream",
          "text": [
            "Tipul de date continute de catre tensori:  torch.int64 torch.float32\n",
            "Tipul de tensor:  torch.LongTensor torch.FloatTensor\n"
          ],
          "name": "stdout"
        }
      ]
    },
    {
      "cell_type": "code",
      "metadata": {
        "colab": {
          "base_uri": "https://localhost:8080/"
        },
        "id": "bXcOs2TlHLGd",
        "outputId": "e200d9d8-40a9-4018-f44c-24d754ade33f"
      },
      "source": [
        "Float_Tensor = torch.FloatTensor([11, 0, 13])\n",
        "Int_Tensor = torch.tensor([12, 0, 8])\n",
        "New_Float_Tensor = Int_Tensor.type(torch.FloatTensor)\n",
        "print(\"Tipul de date continute de catre tensori: \", Float_Tensor.dtype, Int_Tensor.dtype, New_Float_Tensor.dtype)\n",
        "print(\"Tipul de tensor: \", Float_Tensor.type(), Int_Tensor.type(), New_Float_Tensor.type())"
      ],
      "execution_count": 39,
      "outputs": [
        {
          "output_type": "stream",
          "text": [
            "Tipul de date continute de catre tensori:  torch.float32 torch.int64 torch.float32\n",
            "Tipul de tensor:  torch.FloatTensor torch.LongTensor torch.FloatTensor\n"
          ],
          "name": "stdout"
        }
      ]
    },
    {
      "cell_type": "markdown",
      "metadata": {
        "id": "UMWumK-2H_dW"
      },
      "source": [
        "# Dimensiuni"
      ]
    },
    {
      "cell_type": "code",
      "metadata": {
        "colab": {
          "base_uri": "https://localhost:8080/"
        },
        "id": "Acb4CPDuIA-X",
        "outputId": "54fb3297-f65a-4913-ec4b-3d4726c129c9"
      },
      "source": [
        "# Vizualizarea dimensiunilor tensorilor\n",
        "a = torch.tensor([[54, 32, 56], [4, 6, 4], [23, 4 ,7], [-2, -5, -6]])\n",
        "print(a.size())\n",
        "print(a.ndimension())\n",
        "\n",
        "b = torch.tensor([1, 3, -12, -4])\n",
        "print(b.size())\n",
        "print(b.ndimension())\n",
        "\n",
        "c = torch.tensor(1)\n",
        "print(c.size())\n",
        "print(c.ndimension())\n",
        "\n",
        "# Modificarea dimensiunilor tensorilor\n",
        "a_34 = a.view(3,4)\n",
        "b_41 = b.view(-1,1)\n",
        "\n",
        "print(a, a_34, b, b_41, sep='\\n')"
      ],
      "execution_count": 40,
      "outputs": [
        {
          "output_type": "stream",
          "text": [
            "torch.Size([4, 3])\n",
            "2\n",
            "torch.Size([4])\n",
            "1\n",
            "torch.Size([])\n",
            "0\n",
            "tensor([[54, 32, 56],\n",
            "        [ 4,  6,  4],\n",
            "        [23,  4,  7],\n",
            "        [-2, -5, -6]])\n",
            "tensor([[54, 32, 56,  4],\n",
            "        [ 6,  4, 23,  4],\n",
            "        [ 7, -2, -5, -6]])\n",
            "tensor([  1,   3, -12,  -4])\n",
            "tensor([[  1],\n",
            "        [  3],\n",
            "        [-12],\n",
            "        [ -4]])\n"
          ],
          "name": "stdout"
        }
      ]
    },
    {
      "cell_type": "markdown",
      "metadata": {
        "id": "XSmspPBvYdIb"
      },
      "source": [
        "# Interacțiunea cu NumPy"
      ]
    },
    {
      "cell_type": "code",
      "metadata": {
        "colab": {
          "base_uri": "https://localhost:8080/"
        },
        "id": "m8ljcbVZYmnz",
        "outputId": "8a391061-7092-4236-d2c2-e998c657639a"
      },
      "source": [
        "numpy_array = np.array([[1, 3, 5],[-2, 4, 10]])\n",
        "torch_from_numpy = torch.from_numpy(numpy_array)\n",
        "numpy_from_torch = torch_from_numpy.numpy()\n",
        "\n",
        "print(torch_from_numpy, numpy_from_torch, sep='\\n')"
      ],
      "execution_count": 41,
      "outputs": [
        {
          "output_type": "stream",
          "text": [
            "tensor([[ 1,  3,  5],\n",
            "        [-2,  4, 10]])\n",
            "[[ 1  3  5]\n",
            " [-2  4 10]]\n"
          ],
          "name": "stdout"
        }
      ]
    },
    {
      "cell_type": "markdown",
      "metadata": {
        "id": "cBM8JUhIa5pR"
      },
      "source": [
        "# Indexare și \"separare\""
      ]
    },
    {
      "cell_type": "code",
      "metadata": {
        "colab": {
          "base_uri": "https://localhost:8080/"
        },
        "id": "9UjBE-N8bNg0",
        "outputId": "98c7801e-db75-4ade-b3ef-0f97c385b0f2"
      },
      "source": [
        "# Indexarea tensorilor \n",
        "index_tensor = torch.tensor([1, 2, 3, 4, 5, 6])\n",
        "print(\"Primul element al tensorului este \", index_tensor[0])\n",
        "print(\"Ultimul element al tensorului este: \", index_tensor[5])\n",
        "\n",
        "# Modificarea valorii unui element al tensorului\n",
        "index_tensor[4] = -5\n",
        "\n",
        "# Slicing\n",
        "new_tensor_from_index_1 = index_tensor[2:4]\n",
        "new_tensor_from_index_2 = index_tensor[-3:-1]\n",
        "\n",
        "selected_values = [3,4]\n",
        "new_tensor_from_index_3 = index_tensor[selected_values]\n",
        "print(index_tensor, new_tensor_from_index_1, new_tensor_from_index_2, new_tensor_from_index_3, sep='\\n')"
      ],
      "execution_count": 42,
      "outputs": [
        {
          "output_type": "stream",
          "text": [
            "Primul element al tensorului este  tensor(1)\n",
            "Ultimul element al tensorului este:  tensor(6)\n",
            "tensor([ 1,  2,  3,  4, -5,  6])\n",
            "tensor([3, 4])\n",
            "tensor([ 4, -5])\n",
            "tensor([ 4, -5])\n"
          ],
          "name": "stdout"
        }
      ]
    },
    {
      "cell_type": "markdown",
      "metadata": {
        "id": "5jK5Ukbsmvih"
      },
      "source": [
        "# Functii"
      ]
    },
    {
      "cell_type": "markdown",
      "metadata": {
        "id": "sG-OZGUZm8c4"
      },
      "source": [
        "## Media și deviația standard"
      ]
    },
    {
      "cell_type": "code",
      "metadata": {
        "colab": {
          "base_uri": "https://localhost:8080/"
        },
        "id": "Eu7y7xSpmxmw",
        "outputId": "9e78602f-c9e4-4b32-b7ba-9c6040f92a7b"
      },
      "source": [
        "math_vector = torch.FloatTensor([1., 12., -13., 5., 20., -13., -5., 40.])\n",
        "\n",
        "# Media valorilor unui tensor\n",
        "print(math_vector.mean())\n",
        "\n",
        "# Deviația standard a unui tensor\n",
        "print(math_vector.std())"
      ],
      "execution_count": 43,
      "outputs": [
        {
          "output_type": "stream",
          "text": [
            "tensor(5.8750)\n",
            "tensor(17.9558)\n"
          ],
          "name": "stdout"
        }
      ]
    },
    {
      "cell_type": "markdown",
      "metadata": {
        "id": "6_DU-9N4o_Ev"
      },
      "source": [
        "## Maximul și minimul"
      ]
    },
    {
      "cell_type": "code",
      "metadata": {
        "colab": {
          "base_uri": "https://localhost:8080/"
        },
        "id": "GMQimBtBpDAe",
        "outputId": "c53c09bb-d252-450d-9145-43ddcbdcd242"
      },
      "source": [
        "max_min_tensor = torch.tensor([-12, 4, 20, 54, -123, 6])\n",
        "# Display the maximum of a tensor\n",
        "print(max_min_tensor.max())\n",
        "# Display the minimum of a tensor\n",
        "print(max_min_tensor.min())"
      ],
      "execution_count": 44,
      "outputs": [
        {
          "output_type": "stream",
          "text": [
            "tensor(54)\n",
            "tensor(-123)\n"
          ],
          "name": "stdout"
        }
      ]
    },
    {
      "cell_type": "markdown",
      "metadata": {
        "id": "sLzeZ1-pqf3L"
      },
      "source": [
        "# Functii trigonometrice"
      ]
    },
    {
      "cell_type": "code",
      "metadata": {
        "colab": {
          "base_uri": "https://localhost:8080/",
          "height": 624
        },
        "id": "PE0v3nh1qmNP",
        "outputId": "040ca5cc-c1b8-4364-90de-bbbba6073975"
      },
      "source": [
        "trig_tensor = torch.tensor([0, np.pi/2, np.pi])\n",
        "# Funcția sinus\n",
        "print(torch.sin(trig_tensor))\n",
        "# Funcția cosinus\n",
        "print(torch.cos(trig_tensor))\n",
        "\n",
        "# Afisarea functiilor trigonometrice\n",
        "trig_tensor = torch.linspace(0, 2*np.pi, 100)\n",
        "\n",
        "# Afișarea funcției sinus\n",
        "plt.figure()\n",
        "plt.title('Sin function')\n",
        "plt.xlabel('x')\n",
        "plt.ylabel('y')\n",
        "plt.plot(trig_tensor.numpy(), torch.sin(trig_tensor))\n",
        "\n",
        "# Afișarea funcției cosinus\n",
        "plt.figure()\n",
        "plt.title('Sin function')\n",
        "plt.xlabel('x')\n",
        "plt.ylabel('y')\n",
        "plt.plot(trig_tensor.numpy(), torch.cos(trig_tensor))"
      ],
      "execution_count": 45,
      "outputs": [
        {
          "output_type": "stream",
          "text": [
            "tensor([ 0.0000e+00,  1.0000e+00, -8.7423e-08])\n",
            "tensor([ 1.0000e+00, -4.3711e-08, -1.0000e+00])\n"
          ],
          "name": "stdout"
        },
        {
          "output_type": "execute_result",
          "data": {
            "text/plain": [
              "[<matplotlib.lines.Line2D at 0x7f4ad7049be0>]"
            ]
          },
          "metadata": {
            "tags": []
          },
          "execution_count": 45
        },
        {
          "output_type": "display_data",
          "data": {
            "image/png": "[encoded data removed]",
            "text/plain": [
              "<Figure size 432x288 with 1 Axes>"
            ]
          },
          "metadata": {
            "tags": [],
            "needs_background": "light"
          }
        },
        {
          "output_type": "display_data",
          "data": {
            "image/png": "[encoded data removed]",
            "text/plain": [
              "<Figure size 432x288 with 1 Axes>"
            ]
          },
          "metadata": {
            "tags": [],
            "needs_background": "light"
          }
        }
      ]
    },
    {
      "cell_type": "markdown",
      "metadata": {
        "id": "_9xwWWb0t4s0"
      },
      "source": [
        "## Operații cu tensori"
      ]
    },
    {
      "cell_type": "code",
      "metadata": {
        "colab": {
          "base_uri": "https://localhost:8080/"
        },
        "id": "2uOkOP-Rt8h4",
        "outputId": "3b5a015f-c005-415f-ff1c-eac80c878825"
      },
      "source": [
        "a = torch.tensor([3, -4, 12, 4, -7])\n",
        "b = torch.tensor([-12, 7, 8, -4, 9])\n",
        "\n",
        "# Adunare\n",
        "print(a+b)\n",
        "\n",
        "# Scadere\n",
        "print(a-b)\n",
        "\n",
        "# Înmulțire\n",
        "print(a*b)\n",
        "\n",
        "# Împărțire\n",
        "print(a/b)\n",
        "\n",
        "# Produsul scalar\n",
        "print(torch.dot(a,b))\n",
        "\n",
        "# Înmulțirea matriceală\n",
        "mat_1 = torch.tensor([[2, 4, 5],[-3, 5, 7]])\n",
        "mat_2 = torch.tensor([[5, 4],[-2, 7],[0, 8]])\n",
        "\n",
        "print(torch.mm(mat_1,mat_2))"
      ],
      "execution_count": 61,
      "outputs": [
        {
          "output_type": "stream",
          "text": [
            "tensor([-9,  3, 20,  0,  2])\n",
            "tensor([ 15, -11,   4,   8, -16])\n",
            "tensor([-36, -28,  96, -16, -63])\n",
            "tensor([-0.2500, -0.5714,  1.5000, -1.0000, -0.7778])\n",
            "tensor(-47)\n",
            "tensor([[  2,  76],\n",
            "        [-25,  79]])\n"
          ],
          "name": "stdout"
        }
      ]
    },
    {
      "cell_type": "markdown",
      "metadata": {
        "id": "lniDEO0klEcH"
      },
      "source": [
        "# Derivate"
      ]
    },
    {
      "cell_type": "code",
      "metadata": {
        "colab": {
          "base_uri": "https://localhost:8080/"
        },
        "id": "PP867TSHlGO1",
        "outputId": "2948b988-0650-4664-e8c6-c40a3f074c2c"
      },
      "source": [
        "# Derivate în funcție de o singură variabilă\n",
        "x = torch.tensor(2., requires_grad=True)\n",
        "print(\"Tensorul x: \", x)\n",
        "\n",
        "y = x**3 + 2*x\n",
        "print(\"Tensorul y:\", y)\n",
        "\n",
        "y.backward()\n",
        "print(\"Derivata functiei y în raport cu variabila x: \", x.grad)"
      ],
      "execution_count": 47,
      "outputs": [
        {
          "output_type": "stream",
          "text": [
            "Tensorul x:  tensor(2., requires_grad=True)\n",
            "Tensorul y: tensor(12., grad_fn=<AddBackward0>)\n",
            "Derivata functiei y în raport cu variabila x:  tensor(14.)\n"
          ],
          "name": "stdout"
        }
      ]
    },
    {
      "cell_type": "code",
      "metadata": {
        "colab": {
          "base_uri": "https://localhost:8080/"
        },
        "id": "ozrlFZ3_nKd4",
        "outputId": "56b91532-7ce1-4e86-d4ef-bf9a045ae3bf"
      },
      "source": [
        "# Derivate parțiale\n",
        "u = torch.tensor(3., requires_grad=True)\n",
        "v = torch.tensor(2., requires_grad=True)\n",
        "\n",
        "f = v**2 + u**3 - u*v\n",
        "print(\"Valoarea funcției f: \", f)\n",
        "\n",
        "f.backward()\n",
        "print(\"Derivata parțială a funcției f în raport cu variabila u: \", u.grad)\n",
        "print(\"Derivata parțială a funcției f în raport cu variabila v: \", v.grad)\n",
        "\n"
      ],
      "execution_count": 48,
      "outputs": [
        {
          "output_type": "stream",
          "text": [
            "Valoarea funcției f:  tensor(25., grad_fn=<SubBackward0>)\n",
            "Derivata parțială a funcției f în raport cu variabila u:  tensor(25.)\n",
            "Derivata parțială a funcției f în raport cu variabila v:  tensor(1.)\n"
          ],
          "name": "stdout"
        }
      ]
    },
    {
      "cell_type": "code",
      "metadata": {
        "colab": {
          "base_uri": "https://localhost:8080/",
          "height": 279
        },
        "id": "WWh4V8lsoZOT",
        "outputId": "62ba13d3-37c0-4891-acab-dfc8f99eed95"
      },
      "source": [
        "# Derivate în raport cu variabile multidimensionale\n",
        "\n",
        "x = torch.linspace(-10, 10, 10, requires_grad = True)\n",
        "Y = x ** 2\n",
        "y = torch.sum(x ** 2)\n",
        "\n",
        "# Afișarea funcției și derivatei acesteia\n",
        "\n",
        "y.backward()\n",
        "\n",
        "plt.plot(x.detach().numpy(), Y.detach().numpy(), label = 'funcția')\n",
        "plt.plot(x.detach().numpy(), x.grad.detach().numpy(), label = 'derivata')\n",
        "plt.xlabel('x')\n",
        "plt.legend()\n",
        "plt.show()"
      ],
      "execution_count": 49,
      "outputs": [
        {
          "output_type": "display_data",
          "data": {
            "image/png": "[encoded data removed]",
            "text/plain": [
              "<Figure size 432x288 with 1 Axes>"
            ]
          },
          "metadata": {
            "tags": [],
            "needs_background": "light"
          }
        }
      ]
    },
    {
      "cell_type": "code",
      "metadata": {
        "colab": {
          "base_uri": "https://localhost:8080/",
          "height": 279
        },
        "id": "Rn90jVOEqKst",
        "outputId": "e87a08c1-c619-4b45-9da3-463fa058946f"
      },
      "source": [
        "# Derivata funcției de activare ReLU\n",
        "\n",
        "x = torch.linspace(-10, 10, 1000, requires_grad = True)\n",
        "Y = torch.relu(x)\n",
        "y = Y.sum()\n",
        "y.backward()\n",
        "plt.plot(x.detach().numpy(), Y.detach().numpy(), label = 'funcția')\n",
        "plt.plot(x.detach().numpy(), x.grad.detach().numpy(), label = 'derivata')\n",
        "plt.xlabel('x')\n",
        "plt.legend()\n",
        "plt.show()"
      ],
      "execution_count": 50,
      "outputs": [
        {
          "output_type": "display_data",
          "data": {
            "image/png": "[encoded data removed]",
            "text/plain": [
              "<Figure size 432x288 with 1 Axes>"
            ]
          },
          "metadata": {
            "tags": [],
            "needs_background": "light"
          }
        }
      ]
    },
    {
      "cell_type": "markdown",
      "metadata": {
        "id": "wkc1GQnXt80i"
      },
      "source": [
        "# Regresia liniară\n"
      ]
    },
    {
      "cell_type": "code",
      "metadata": {
        "colab": {
          "base_uri": "https://localhost:8080/"
        },
        "id": "8Cy3-vtHuAkh",
        "outputId": "0c00ecb7-81d7-4894-b391-9412610ffa64"
      },
      "source": [
        "# Ecuația unei drepte: y = mx + b\n",
        "# Definirea parametrilor\n",
        "w = torch.tensor(2., requires_grad=True)\n",
        "b = torch.tensor(1., requires_grad=True)\n",
        "\n",
        "# Definirea funcției (Predicția)\n",
        "def forward(x):\n",
        "  yhat = w*x + b\n",
        "  return yhat\n",
        "\n",
        "x1 = torch.tensor([[3.0]])\n",
        "yhat1 = forward(x1)\n",
        "print(\"Predicția funcției: \", yhat1)\n",
        "\n",
        "x2 = torch.tensor([[1.], [4.], [6.]])\n",
        "yhat2 = forward(x2)\n",
        "print(\"Predicția funcției: \", yhat2)"
      ],
      "execution_count": 51,
      "outputs": [
        {
          "output_type": "stream",
          "text": [
            "Predicția funcției:  tensor([[7.]], grad_fn=<AddBackward0>)\n",
            "Predicția funcției:  tensor([[ 3.],\n",
            "        [ 9.],\n",
            "        [13.]], grad_fn=<AddBackward0>)\n"
          ],
          "name": "stdout"
        }
      ]
    },
    {
      "cell_type": "markdown",
      "metadata": {
        "id": "wnFlY5FxxMLt"
      },
      "source": [
        "## Clasa **Linear**"
      ]
    },
    {
      "cell_type": "code",
      "metadata": {
        "colab": {
          "base_uri": "https://localhost:8080/"
        },
        "id": "s_xbRxbGxQE6",
        "outputId": "75d10ed9-d9a5-4d99-c8dd-73f884057625"
      },
      "source": [
        "from torch.nn import Linear\n",
        "\n",
        "torch.manual_seed(100)\n",
        "\n",
        "LR = Linear(in_features=1, out_features=1, bias=True)\n",
        "print(\"Parametrii w și b:\", list(LR.parameters()))\n",
        "\n",
        "print(LR.state_dict())\n",
        "print(LR.weight, LR.bias, sep='\\n')\n",
        "\n",
        "x3 = torch.tensor([[3.]])\n",
        "yhat3 = LR(x3)\n",
        "\n",
        "x4 = torch.tensor([[2.4],[4.]])\n",
        "yhat4 = LR(x4)\n",
        "\n",
        "print(yhat3, yhat4, sep='\\n')"
      ],
      "execution_count": 52,
      "outputs": [
        {
          "output_type": "stream",
          "text": [
            "Parametrii w și b: [Parameter containing:\n",
            "tensor([[-0.7767]], requires_grad=True), Parameter containing:\n",
            "tensor([0.6317], requires_grad=True)]\n",
            "OrderedDict([('weight', tensor([[-0.7767]])), ('bias', tensor([0.6317]))])\n",
            "Parameter containing:\n",
            "tensor([[-0.7767]], requires_grad=True)\n",
            "Parameter containing:\n",
            "tensor([0.6317], requires_grad=True)\n",
            "tensor([[-1.6983]], grad_fn=<AddmmBackward>)\n",
            "tensor([[-1.2323],\n",
            "        [-2.4750]], grad_fn=<AddmmBackward>)\n"
          ],
          "name": "stdout"
        }
      ]
    },
    {
      "cell_type": "markdown",
      "metadata": {
        "id": "85B5wa7WzGpx"
      },
      "source": [
        "## Training"
      ]
    },
    {
      "cell_type": "code",
      "metadata": {
        "id": "fNQIXvuMzIfq"
      },
      "source": [
        "# Clasa pentru afișare\n",
        "class plot_diagram():\n",
        "\n",
        "    def __init__(self, X, Y, w, stop, go = False):\n",
        "        start = w.data\n",
        "        self.error = []\n",
        "        self.parameter = []\n",
        "        self.X = X.numpy()\n",
        "        self.Y = Y.numpy()\n",
        "        self.parameter_values = torch.arange(start, stop)\n",
        "        self.Loss_function = [criterion(forward(X), Y) for w.data in self.parameter_values] \n",
        "        w.data = start\n",
        "        \n",
        "    def __call__(self, Yhat, w, error, n):\n",
        "        self.error.append(error)\n",
        "        self.parameter.append(w.data)\n",
        "        plt.subplot(212)\n",
        "        plt.plot(self.X, Yhat.detach().numpy())\n",
        "        plt.plot(self.X, self.Y,'ro')\n",
        "        plt.xlabel(\"A\")\n",
        "        plt.ylim(-20, 20)\n",
        "        plt.subplot(211)\n",
        "        plt.title(\"Valorile predicției (sus) Dreapta Estimată (Jos) Iterația \" + str(n))\n",
        "        plt.plot(self.parameter_values.numpy(), self.Loss_function)   \n",
        "        plt.plot(self.parameter, self.error, 'ro')\n",
        "        plt.xlabel(\"B\")\n",
        "        plt.figure()\n",
        "    \n",
        "    def __del__(self):\n",
        "        plt.close('all')"
      ],
      "execution_count": 53,
      "outputs": []
    },
    {
      "cell_type": "code",
      "metadata": {
        "colab": {
          "base_uri": "https://localhost:8080/",
          "height": 296
        },
        "id": "sP3x-iA3ztjo",
        "outputId": "d47cd802-25b1-4380-bf3f-12b7e76e030f"
      },
      "source": [
        "X = torch.arange(-3, 3, 0.1).view(-1,1)\n",
        "f = -3 * X\n",
        "\n",
        "# Afișarea dreptei\n",
        "plt.figure()\n",
        "plt.plot(X.numpy(), f.numpy(), label='f')\n",
        "plt.xlabel('x')\n",
        "plt.ylabel('f')\n",
        "plt.legend()"
      ],
      "execution_count": 54,
      "outputs": [
        {
          "output_type": "execute_result",
          "data": {
            "text/plain": [
              "<matplotlib.legend.Legend at 0x7f4ad7087eb8>"
            ]
          },
          "metadata": {
            "tags": []
          },
          "execution_count": 54
        },
        {
          "output_type": "display_data",
          "data": {
            "image/png": "[encoded data removed]",
            "text/plain": [
              "<Figure size 432x288 with 1 Axes>"
            ]
          },
          "metadata": {
            "tags": [],
            "needs_background": "light"
          }
        }
      ]
    },
    {
      "cell_type": "code",
      "metadata": {
        "colab": {
          "base_uri": "https://localhost:8080/",
          "height": 296
        },
        "id": "hrlZvJOd0e6B",
        "outputId": "46f12fa4-a7cf-46ae-d3f2-1b411dc0e362"
      },
      "source": [
        "Y = f + torch.rand(X.size()) - torch.rand(X.size())\n",
        "\n",
        "# Afișarea punctelor și dreptei\n",
        "plt.figure()\n",
        "plt.plot(X.numpy(), f.numpy(), label='f')\n",
        "plt.plot(X.numpy(), Y.numpy(), 'rx', label='Y')\n",
        "plt.xlabel('x')\n",
        "plt.ylabel('y')\n",
        "plt.legend()"
      ],
      "execution_count": 55,
      "outputs": [
        {
          "output_type": "execute_result",
          "data": {
            "text/plain": [
              "<matplotlib.legend.Legend at 0x7f4adfeabd30>"
            ]
          },
          "metadata": {
            "tags": []
          },
          "execution_count": 55
        },
        {
          "output_type": "display_data",
          "data": {
            "image/png": "[encoded data removed]",
            "text/plain": [
              "<Figure size 432x288 with 1 Axes>"
            ]
          },
          "metadata": {
            "tags": [],
            "needs_background": "light"
          }
        }
      ]
    },
    {
      "cell_type": "code",
      "metadata": {
        "id": "FT5_dKNiHK-E"
      },
      "source": [
        "# Definirea funcției dreptei\n",
        "def forward(x):\n",
        "  yhat = w * x\n",
        "  return yhat\n",
        "\n",
        "# Definirea criteriului de validare\n",
        "def criterion(yhat,y):\n",
        "  MSE = torch.mean((yhat-y)**2)\n",
        "  return MSE\n",
        "\n",
        "# Definirea ratei de învățare (learning rate) și a listei care colectează erorile\n",
        "lr = 0.1\n",
        "LOSS = []\n",
        "\n",
        "\n",
        "w = torch.tensor(-10.0, requires_grad = True)\n",
        "\n",
        "gradient_plot = plot_diagram(X, Y, w, stop = 5)"
      ],
      "execution_count": 56,
      "outputs": []
    },
    {
      "cell_type": "markdown",
      "metadata": {
        "id": "KxB4KbhIInCs"
      },
      "source": [
        "## Antrenarea modelului"
      ]
    },
    {
      "cell_type": "code",
      "metadata": {
        "colab": {
          "base_uri": "https://localhost:8080/",
          "height": 1000
        },
        "id": "hxOZqUc5IpKw",
        "outputId": "91830792-0312-4fb2-8871-d2837aa3a95f"
      },
      "source": [
        "def train_model(iter):\n",
        "    for epoch in range (iter):\n",
        "        # Realizarea predicției\n",
        "        Yhat = forward(X)\n",
        "        \n",
        "        # Calculul erorii\n",
        "        loss = criterion(Yhat,Y)\n",
        "        \n",
        "        # Vizualizarea diagramei\n",
        "        gradient_plot(Yhat, w, loss.item(), epoch)\n",
        "        \n",
        "        # Stocarea erorii în lista definită\n",
        "        LOSS.append(loss.item())\n",
        "        \n",
        "        # Calculul gradientului\n",
        "        loss.backward()\n",
        "        \n",
        "        # Actualizarea parametrilor\n",
        "        w.data = w.data - lr * w.grad.data\n",
        "        \n",
        "        # Setarea valorii de 0 a gradientului pentru următoarea iterație\n",
        "        w.grad.data.zero_()\n",
        "\n",
        "train_model(5)\n",
        "\n",
        "# Afișarea evoluției erorii pentru fiecare iterație\n",
        "plt.plot(LOSS)\n",
        "plt.tight_layout()\n",
        "plt.xlabel(\"Epocă/Iterații\")\n",
        "plt.ylabel(\"Cost\")"
      ],
      "execution_count": 57,
      "outputs": [
        {
          "output_type": "execute_result",
          "data": {
            "text/plain": [
              "Text(24.0, 0.5, 'Cost')"
            ]
          },
          "metadata": {
            "tags": []
          },
          "execution_count": 57
        },
        {
          "output_type": "display_data",
          "data": {
            "image/png": "[encoded data removed]",
            "text/plain": [
              "<Figure size 432x288 with 2 Axes>"
            ]
          },
          "metadata": {
            "tags": [],
            "needs_background": "light"
          }
        },
        {
          "output_type": "display_data",
          "data": {
            "image/png": "[encoded data removed]",
            "text/plain": [
              "<Figure size 432x288 with 2 Axes>"
            ]
          },
          "metadata": {
            "tags": [],
            "needs_background": "light"
          }
        },
        {
          "output_type": "display_data",
          "data": {
            "image/png": "[encoded data removed]",
            "text/plain": [
              "<Figure size 432x288 with 2 Axes>"
            ]
          },
          "metadata": {
            "tags": [],
            "needs_background": "light"
          }
        },
        {
          "output_type": "display_data",
          "data": {
            "image/png": "[encoded data removed]",
            "text/plain": [
              "<Figure size 432x288 with 2 Axes>"
            ]
          },
          "metadata": {
            "tags": [],
            "needs_background": "light"
          }
        },
        {
          "output_type": "display_data",
          "data": {
            "image/png": "[encoded data removed]",
            "text/plain": [
              "<Figure size 432x288 with 2 Axes>"
            ]
          },
          "metadata": {
            "tags": [],
            "needs_background": "light"
          }
        },
        {
          "output_type": "display_data",
          "data": {
            "image/png": "[encoded data removed]",
            "text/plain": [
              "<Figure size 432x288 with 1 Axes>"
            ]
          },
          "metadata": {
            "tags": [],
            "needs_background": "light"
          }
        }
      ]
    },
    {
      "cell_type": "markdown",
      "metadata": {
        "id": "Y_ya-2ADMKHd"
      },
      "source": [
        "# Exerciții"
      ]
    },
    {
      "cell_type": "markdown",
      "metadata": {
        "id": "gV0iMATBMNul"
      },
      "source": [
        "\n",
        "\n",
        "1.  Pornind de următorul tensor, generați un nou tensor care să conțină aceleași valori, dar să aibă dimensiunea (5,1)."
      ]
    },
    {
      "cell_type": "code",
      "metadata": {
        "id": "UeDmNgVzNGhm"
      },
      "source": [
        "ex1_tensor = torch.tensor([-3, 5, 12, 6, 4])"
      ],
      "execution_count": null,
      "outputs": []
    },
    {
      "cell_type": "markdown",
      "metadata": {
        "id": "66WhjUfjOs6r"
      },
      "source": [
        "\n",
        "\n",
        "2.   Schimbați valorile corespunzătoare indicilor 4, 5, 7 cu valoarea 0 pentru următorul tensor.\n",
        "\n"
      ]
    },
    {
      "cell_type": "code",
      "metadata": {
        "id": "TFn16JE0PEv0"
      },
      "source": [
        "ex2_tensor = torch.tensor([21, 5, 12, -7, 89, 4, 34, 65, -3, -8, 13])"
      ],
      "execution_count": null,
      "outputs": []
    },
    {
      "cell_type": "markdown",
      "metadata": {
        "id": "XdzWMW6GPUll"
      },
      "source": [
        "\n",
        "\n",
        "3.   Construiți un tensor ce conține 25 de pași în the intervalul (0,π/2). Afișați minimul și maximul acestui tensor și afișați graficul funcției sinus corespunzător acestui tensor.\n"
      ]
    },
    {
      "cell_type": "markdown",
      "metadata": {
        "id": "Ej0qsMSwQHtQ"
      },
      "source": [
        "4.    Calculați produsul scalar al următorilor tensori:"
      ]
    },
    {
      "cell_type": "code",
      "metadata": {
        "id": "SnxmDE0BQzS8"
      },
      "source": [
        "t1 = torch.tensor([1, -5, 5, 7, 20])\n",
        "t2 = torch.tensor([-2, -8, 14, 3, 1])"
      ],
      "execution_count": null,
      "outputs": []
    },
    {
      "cell_type": "markdown",
      "metadata": {
        "id": "XDgNdM2BY-WR"
      },
      "source": [
        "5.   Calcuțali produsul următoarelor matrici:"
      ]
    },
    {
      "cell_type": "code",
      "metadata": {
        "colab": {
          "base_uri": "https://localhost:8080/"
        },
        "id": "L5X4VVCcZFCb",
        "outputId": "fd0f0b75-39c0-4a70-ad9e-ad60694ab2e6"
      },
      "source": [
        "M1 = torch.tensor([[4],[-8], [2], [5]])\n",
        "M2 = torch.tensor([[2, 6, -5, -1]])"
      ],
      "execution_count": 63,
      "outputs": [
        {
          "output_type": "stream",
          "text": [
            "tensor([[  8,  24, -20,  -4],\n",
            "        [-16, -48,  40,   8],\n",
            "        [  4,  12, -10,  -2],\n",
            "        [ 10,  30, -25,  -5]])\n"
          ],
          "name": "stdout"
        }
      ]
    },
    {
      "cell_type": "markdown",
      "metadata": {
        "id": "UmQ2Os8fRFsI"
      },
      "source": [
        "6.   Calculați derivata următoarelor ecuații pentru x = 5, z = -4: <br>\n",
        "$y1 = x^4 + 3x^3 - 2x + 32$ <br>\n",
        "$y2 = z^3 - 4z^2 + z$ <br>\n",
        "$y3 = x^3z^4 + 4x^2z^3 - x^2 5z + x + z$"
      ]
    },
    {
      "cell_type": "markdown",
      "metadata": {
        "id": "1RboZbxPWPtC"
      },
      "source": [
        "7.      Folosind clasa Linear, generați o predicție pentru tensorul ex5_tensor ]= torch.tensor([[3.4], [5.],[-2.]]). Afișați valoarea predicției. Modificați parametrii (w, b), refaceți predicția și afișați rezultatul."
      ]
    },
    {
      "cell_type": "markdown",
      "metadata": {
        "id": "bdWgnkSAW2jG"
      },
      "source": [
        "8.    Pornind de la ultimul exemplu, generați o nouă valoare pentru parametrul w. Creați o listă nouă care să conțină valorile erorilor. Creați propria funcție care să antreneze modelul. Rulați funcția de antrenare de 5 ori, afișând evoluția algoritmului (folosind gradient_plot), iar apoi afișați suprapus evoluția erorilor pentru cazul actual și pentru exemplul anterior."
      ]
    },
    {
      "cell_type": "markdown",
      "metadata": {
        "id": "i4qYPY9dYNn3"
      },
      "source": [
        "9.    Încercați să modificați de mai multe ori rate de învățare (lr). Ce observați? "
      ]
    }
  ]
}