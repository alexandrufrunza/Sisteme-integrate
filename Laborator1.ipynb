{
  "nbformat": 4,
  "nbformat_minor": 0,
  "metadata": {
    "colab": {
      "name": "Laborator1.ipynb",
      "provenance": [],
      "collapsed_sections": [],
      "authorship_tag": "ABX9TyPUeJ1YtD5LAXggGqnAbDyt",
      "include_colab_link": true
    },
    "kernelspec": {
      "name": "python3",
      "display_name": "Python 3"
    }
  },
  "cells": [
    {
      "cell_type": "markdown",
      "metadata": {
        "id": "view-in-github",
        "colab_type": "text"
      },
      "source": [
        "<a href=\"https://colab.research.google.com/github/alexandrufrunza/Sisteme-integrate/blob/main/Laborator1.ipynb\" target=\"_parent\"><img src=\"https://colab.research.google.com/assets/colab-badge.svg\" alt=\"Open In Colab\"/></a>"
      ]
    },
    {
      "cell_type": "markdown",
      "metadata": {
        "id": "GXncgMqw_UqP"
      },
      "source": [
        "# Obiective\n",
        "* Tensori\n",
        "* Derivate\n",
        "* Seturi de date\n",
        "* Regresia lineara\n",
        "* Metoda gradientului\n",
        "\n",
        "\n",
        "\n"
      ]
    },
    {
      "cell_type": "markdown",
      "metadata": {
        "id": "Mqe9U-0DAIpi"
      },
      "source": [
        "## Importarea librariilor necesare"
      ]
    },
    {
      "cell_type": "code",
      "metadata": {
        "colab": {
          "base_uri": "https://localhost:8080/",
          "height": 35
        },
        "id": "kWte0D-T9yjz",
        "outputId": "d7fdd8ce-c9d1-47fb-ef80-a7a01b211df7"
      },
      "source": [
        "import torch \n",
        "import numpy as np \n",
        "\n",
        "import matplotlib.pyplot as plt\n",
        "%matplotlib inline  "
      ],
      "execution_count": 2,
      "outputs": [
        {
          "output_type": "execute_result",
          "data": {
            "application/vnd.google.colaboratory.intrinsic+json": {
              "type": "string"
            },
            "text/plain": [
              "'1.7.0+cu101'"
            ]
          },
          "metadata": {
            "tags": []
          },
          "execution_count": 2
        }
      ]
    },
    {
      "cell_type": "markdown",
      "metadata": {
        "id": "dGJQXr5YB2Mq"
      },
      "source": [
        "# Generarea unui vector/unei matrici folosind NumPy\n",
        "**Proces similar cu generarea de vectori si matrici folosind Matlab**"
      ]
    },
    {
      "cell_type": "code",
      "metadata": {
        "colab": {
          "base_uri": "https://localhost:8080/"
        },
        "id": "tUccRcssCTLC",
        "outputId": "34f3ac4a-83e2-4414-de23-db4c0736ccb1"
      },
      "source": [
        "vec_np = np.array([12, 4, -4 ,4])\n",
        "print(vec_np)\n",
        "\n",
        "mat_np = np.array([[12, 0, -4], [5, 7, 9]])\n",
        "print(mat_np)"
      ],
      "execution_count": 5,
      "outputs": [
        {
          "output_type": "stream",
          "text": [
            "[12  4 -4  4]\n",
            "[[12  0 -4]\n",
            " [ 5  7  9]]\n"
          ],
          "name": "stdout"
        }
      ]
    },
    {
      "cell_type": "markdown",
      "metadata": {
        "id": "s5GBkzQzC8pt"
      },
      "source": [
        "# Generarea unui tensor folosind PyTorch"
      ]
    },
    {
      "cell_type": "code",
      "metadata": {
        "colab": {
          "base_uri": "https://localhost:8080/"
        },
        "id": "CO_LTYEaDCdi",
        "outputId": "d8f2947b-b173-4fe9-8066-2e9360c68fd0"
      },
      "source": [
        "vec_torc = torch.tensor([[0, 5, 28, 4], [-3, -6, 8, 2]])\n",
        "print(vec_torc)"
      ],
      "execution_count": 6,
      "outputs": [
        {
          "output_type": "stream",
          "text": [
            "tensor([[ 0,  5, 28,  4],\n",
            "        [-3, -6,  8,  2]])\n"
          ],
          "name": "stdout"
        }
      ]
    },
    {
      "cell_type": "markdown",
      "metadata": {
        "id": "PVPDv3glFgwa"
      },
      "source": [
        "# Tipuri de date"
      ]
    },
    {
      "cell_type": "code",
      "metadata": {
        "colab": {
          "base_uri": "https://localhost:8080/"
        },
        "id": "nsFm8faQFxZj",
        "outputId": "6ac03317-6691-42d2-b75f-b368ec23a7d3"
      },
      "source": [
        "int_tensor = torch.tensor([1, 4, 5])\n",
        "float_tensor = torch.tensor([1., 4., 5.])\n",
        "print(\"Tipul de date continute de catre tensori: \", int_tensor.dtype, float_tensor.dtype)\n",
        "print(\"Tipul de tensor: \", int_tensor.type(), float_tensor.type())"
      ],
      "execution_count": 8,
      "outputs": [
        {
          "output_type": "stream",
          "text": [
            "Tipul de date continute de catre tensori:  torch.int64 torch.float32\n",
            "Tipul de tensor:  torch.LongTensor torch.FloatTensor\n"
          ],
          "name": "stdout"
        }
      ]
    },
    {
      "cell_type": "code",
      "metadata": {
        "colab": {
          "base_uri": "https://localhost:8080/"
        },
        "id": "bXcOs2TlHLGd",
        "outputId": "661a23cd-61fd-429a-a749-e5fa9bb50a32"
      },
      "source": [
        "Float_Tensor = torch.FloatTensor([11, 0, 13])\n",
        "Int_Tensor = torch.tensor([12, 0, 8])\n",
        "New_Float_Tensor = Int_Tensor.type(torch.FloatTensor)\n",
        "print(\"Tipul de date continute de catre tensori: \", Float_Tensor.dtype, Int_Tensor.dtype, New_Float_Tensor.dtype)\n",
        "print(\"Tipul de tensor: \", Float_Tensor.type(), Int_Tensor.type(), New_Float_Tensor.type())"
      ],
      "execution_count": 9,
      "outputs": [
        {
          "output_type": "stream",
          "text": [
            "Tipul de date continute de catre tensori:  torch.float32 torch.int64 torch.float32\n",
            "Tipul de tensor:  torch.FloatTensor torch.LongTensor torch.FloatTensor\n"
          ],
          "name": "stdout"
        }
      ]
    },
    {
      "cell_type": "markdown",
      "metadata": {
        "id": "UMWumK-2H_dW"
      },
      "source": [
        "# Dimensiuni"
      ]
    },
    {
      "cell_type": "code",
      "metadata": {
        "colab": {
          "base_uri": "https://localhost:8080/"
        },
        "id": "Acb4CPDuIA-X",
        "outputId": "4cf783c6-1e9b-4e9e-a9b6-ab610659005b"
      },
      "source": [
        "# Vizualizarea dimensiunilor tensorilor\n",
        "a = torch.tensor([[54, 32, 56], [4, 6, 4], [23, 4 ,7], [-2, -5, -6]])\n",
        "print(a.size())\n",
        "print(a.ndimension())\n",
        "\n",
        "b = torch.tensor([1, 3, -12, -4])\n",
        "print(b.size())\n",
        "print(b.ndimension())\n",
        "\n",
        "c = torch.tensor(1)\n",
        "print(c.size())\n",
        "print(c.ndimension())\n",
        "\n",
        "# Modificarea dimensiunilor tensorilor\n",
        "a_34 = a.view(3,4)"
      ],
      "execution_count": 15,
      "outputs": [
        {
          "output_type": "stream",
          "text": [
            "torch.Size([4, 3])\n",
            "2\n",
            "torch.Size([4])\n",
            "1\n",
            "torch.Size([])\n",
            "0\n"
          ],
          "name": "stdout"
        }
      ]
    }
  ]
}